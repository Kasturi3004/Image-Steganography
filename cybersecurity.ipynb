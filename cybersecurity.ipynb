{
 "cells": [
  {
   "cell_type": "code",
   "execution_count": 3,
   "id": "bb970bf4",
   "metadata": {},
   "outputs": [
    {
     "name": "stdout",
     "output_type": "stream",
     "text": [
      "Enter secret message: flower flower\n",
      "Enter a passcode: 1234\n",
      "Enter passcode for Decryption: 1234\n",
      "Decryption message: ²Ç \u001fNC\"V< \n"
     ]
    }
   ],
   "source": [
    "import cv2\n",
    "import os\n",
    "\n",
    "def create_lookup_tables():\n",
    "    d = {chr(i): i for i in range(255)}\n",
    "    c = {i: chr(i) for i in range(255)}\n",
    "    return d, c\n",
    "\n",
    "def encrypt_message(image_path, message, password, output_path=\"encryptedImage.jpg\"):\n",
    "    img = cv2.imread(image_path)\n",
    "    if img is None:\n",
    "        print(\"Error: Image not found.\")\n",
    "        return\n",
    "    \n",
    "    d, _ = create_lookup_tables()\n",
    "    n, m, z = 0, 0, 0\n",
    "    \n",
    "    for char in message:\n",
    "        img[n, m, z] = d[char]\n",
    "        n += 1\n",
    "        m += 1\n",
    "        z = (z + 1) % 3\n",
    "    \n",
    "    cv2.imwrite(output_path, img)\n",
    "    os.system(f\"start {output_path}\")  # Opens the image on Windows\n",
    "    return password\n",
    "\n",
    "def decrypt_message(image_path, password, original_message):\n",
    "    img = cv2.imread(image_path)\n",
    "    if img is None:\n",
    "        print(\"Error: Image not found.\")\n",
    "        return\n",
    "    \n",
    "    _, c = create_lookup_tables()\n",
    "    n, m, z = 0, 0, 0\n",
    "    decrypted_message = \"\"\n",
    "    \n",
    "    pas = input(\"Enter passcode for Decryption: \")\n",
    "    if password == pas:\n",
    "        for _ in range(len(original_message)):\n",
    "            decrypted_message += c[img[n, m, z]]\n",
    "            n += 1\n",
    "            m += 1\n",
    "            z = (z + 1) % 3\n",
    "        print(\"Decryption message:\", decrypted_message)\n",
    "    else:\n",
    "        print(\"YOU ARE NOT AUTHORIZED\")\n",
    "\n",
    "if __name__ == \"__main__\":\n",
    "    img_path = \"images.jpeg\"  # Replace with the correct image path\n",
    "    msg = input(\"Enter secret message: \")\n",
    "    passcode = input(\"Enter a passcode: \")\n",
    "    \n",
    "    stored_passcode = encrypt_message(img_path, msg, passcode)\n",
    "    decrypt_message(\"encryptedImage.jpg\", stored_passcode, msg)\n"
   ]
  },
  {
   "cell_type": "code",
   "execution_count": null,
   "id": "158e4731",
   "metadata": {},
   "outputs": [],
   "source": []
  }
 ],
 "metadata": {
  "kernelspec": {
   "display_name": "Python 3 (ipykernel)",
   "language": "python",
   "name": "python3"
  },
  "language_info": {
   "codemirror_mode": {
    "name": "ipython",
    "version": 3
   },
   "file_extension": ".py",
   "mimetype": "text/x-python",
   "name": "python",
   "nbconvert_exporter": "python",
   "pygments_lexer": "ipython3",
   "version": "3.9.12"
  }
 },
 "nbformat": 4,
 "nbformat_minor": 5
}
